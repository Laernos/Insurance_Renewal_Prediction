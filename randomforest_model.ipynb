{
 "cells": [
  {
   "cell_type": "code",
   "execution_count": 5,
   "id": "5aa567c8",
   "metadata": {},
   "outputs": [
    {
     "name": "stderr",
     "output_type": "stream",
     "text": [
      "/var/folders/0x/y70f9b115h59p57bg5dtc2500000gn/T/ipykernel_52000/3515561993.py:12: DtypeWarning: Columns (6) have mixed types. Specify dtype option on import or set low_memory=False.\n",
      "  df = pd.read_csv(\"Motor_vehicle_insurance_data.csv\", delimiter=';')\n"
     ]
    },
    {
     "name": "stdout",
     "output_type": "stream",
     "text": [
      "✅ Random Forest model trained and saved as 'randomForest_insurance_renewal_rf_model.pkl'\n"
     ]
    }
   ],
   "source": [
    "# === IMPORTS ===\n",
    "import pandas as pd\n",
    "from sklearn.model_selection import train_test_split\n",
    "from sklearn.preprocessing import OneHotEncoder, StandardScaler\n",
    "from sklearn.compose import ColumnTransformer\n",
    "from sklearn.pipeline import Pipeline\n",
    "from sklearn.ensemble import RandomForestClassifier\n",
    "from sklearn.impute import SimpleImputer\n",
    "import joblib\n",
    "\n",
    "# === LOAD DATA ===\n",
    "df = pd.read_csv(\"Motor_vehicle_insurance_data.csv\", delimiter=';')\n",
    "\n",
    "# === CONVERT DATE COLUMNS ===\n",
    "date_cols = ['Date_start_contract', 'Date_last_renewal', 'Date_next_renewal', \n",
    "             'Date_birth', 'Date_driving_licence', 'Date_lapse']\n",
    "for col in date_cols:\n",
    "    df[col] = pd.to_datetime(df[col], errors='coerce', dayfirst=True)\n",
    "\n",
    "# === CORRECT LAPSE HANDLING ===\n",
    "df['Renewed'] = df['Lapse'].apply(lambda x: 1 if x == 0 else 0)  # Define target\n",
    "\n",
    "# === FEATURE ENGINEERING WITH FIXED DATE ===\n",
    "reference_date = pd.to_datetime(\"2018-12-31\")\n",
    "df['Customer_age'] = (reference_date - df['Date_birth']).dt.days // 365\n",
    "df['Driving_experience'] = (reference_date - df['Date_driving_licence']).dt.days // 365\n",
    "df['Contract_duration'] = (df['Date_next_renewal'] - df['Date_start_contract']).dt.days\n",
    "\n",
    "# === REMOVE DATE-BASED OUTLIERS ===\n",
    "df = df[(df['Customer_age'] >= 18) & (df['Customer_age'] <= 100)]\n",
    "df = df[(df['Driving_experience'] >= 0) & (df['Driving_experience'] <= 80)]\n",
    "\n",
    "# === DROP UNUSED COLUMNS ===\n",
    "df = df.drop(columns=['ID', 'Date_start_contract', 'Date_last_renewal', 'Date_next_renewal', \n",
    "                      'Date_birth', 'Date_driving_licence', 'Date_lapse', 'Lapse'])\n",
    "\n",
    "# === DEFINE FEATURES & TARGET ===\n",
    "X = df.drop(columns=['Renewed'])\n",
    "y = df['Renewed']\n",
    "\n",
    "# === IDENTIFY COLUMN TYPES ===\n",
    "categorical_cols = X.select_dtypes(include=['object']).columns.tolist()\n",
    "numerical_cols = X.select_dtypes(include=['float64', 'int64']).columns.tolist()\n",
    "for col in categorical_cols:\n",
    "    X[col] = X[col].astype(str)\n",
    "\n",
    "# === PREPROCESSING PIPELINES ===\n",
    "numeric_transformer = Pipeline([\n",
    "    ('imputer', SimpleImputer(strategy='mean')),\n",
    "    ('scaler', StandardScaler())\n",
    "])\n",
    "categorical_transformer = Pipeline([\n",
    "    ('imputer', SimpleImputer(strategy='most_frequent')),\n",
    "    ('onehot', OneHotEncoder(handle_unknown='ignore'))\n",
    "])\n",
    "preprocessor = ColumnTransformer([\n",
    "    ('num', numeric_transformer, numerical_cols),\n",
    "    ('cat', categorical_transformer, categorical_cols)\n",
    "])\n",
    "\n",
    "# === MODEL PIPELINE WITH RANDOM FOREST ===\n",
    "model = Pipeline([\n",
    "    ('preprocessor', preprocessor),\n",
    "    ('classifier', RandomForestClassifier(n_estimators=100, class_weight='balanced', random_state=42))\n",
    "])\n",
    "\n",
    "# === TRAIN-TEST SPLIT & MODEL TRAINING ===\n",
    "X_train, X_test, y_train, y_test = train_test_split(X, y, test_size=0.2, random_state=42)\n",
    "model.fit(X_train, y_train)\n",
    "\n",
    "# === EXPORT TRAINED MODEL ===\n",
    "joblib.dump(model, \"randomForest_insurance_renewal_rf_model.pkl\")\n",
    "print(\"✅ Random Forest model trained and saved as 'randomForest_insurance_renewal_rf_model.pkl'\")"
   ]
  },
  {
   "cell_type": "code",
   "execution_count": null,
   "id": "65a409aa",
   "metadata": {},
   "outputs": [
    {
     "name": "stdout",
     "output_type": "stream",
     "text": [
      "Accuracy: 0.8325043816020085\n",
      "\n",
      "Classification Report:\n",
      "               precision    recall  f1-score   support\n",
      "\n",
      "           0       0.70      0.34      0.45      4361\n",
      "           1       0.85      0.96      0.90     16750\n",
      "\n",
      "    accuracy                           0.83     21111\n",
      "   macro avg       0.77      0.65      0.68     21111\n",
      "weighted avg       0.82      0.83      0.81     21111\n",
      "\n",
      "\n",
      "Confusion Matrix:\n",
      " [[ 1464  2897]\n",
      " [  639 16111]]\n"
     ]
    }
   ],
   "source": [
    "# === IMPORTS ===\n",
    "import joblib\n",
    "from sklearn.metrics import (\n",
    "    accuracy_score, classification_report, confusion_matrix,\n",
    "    roc_auc_score\n",
    ")\n",
    "import matplotlib.pyplot as plt\n",
    "import seaborn as sns\n",
    "\n",
    "# === LOAD SAVED RANDOM FOREST MODEL ===\n",
    "model = joblib.load(\"randomForest_insurance_renewal_rf_model.pkl\")\n",
    "\n",
    "# === PREDICT ON TEST SET ===\n",
    "y_pred = model.predict(X_test)\n",
    "y_prob = model.predict_proba(X_test)[:, 1]  # Probabilities for ROC AUC\n",
    "\n",
    "# === EVALUATE MODEL PERFORMANCE ===\n",
    "print(\"✅ Model Evaluation\")\n",
    "print(\"-\" * 30)\n",
    "print(\"Accuracy:\", accuracy_score(y_test, y_pred))\n",
    "print(\"ROC AUC Score:\", roc_auc_score(y_test, y_prob))\n",
    "print(\"\\nClassification Report:\\n\", classification_report(y_test, y_pred))\n",
    "\n",
    "# === DISPLAY CONFUSION MATRIX ===\n",
    "conf_matrix = confusion_matrix(y_test, y_pred)\n",
    "plt.figure(figsize=(6, 4))\n",
    "sns.heatmap(conf_matrix, annot=True, fmt='d', cmap=\"Blues\", xticklabels=['Not Renewed', 'Renewed'], yticklabels=['Not Renewed', 'Renewed'])\n",
    "plt.title('Confusion Matrix')\n",
    "plt.xlabel('Predicted')\n",
    "plt.ylabel('Actual')\n",
    "plt.tight_layout()\n",
    "plt.show()"
   ]
  }
 ],
 "metadata": {
  "kernelspec": {
   "display_name": "Python 3",
   "language": "python",
   "name": "python3"
  },
  "language_info": {
   "codemirror_mode": {
    "name": "ipython",
    "version": 3
   },
   "file_extension": ".py",
   "mimetype": "text/x-python",
   "name": "python",
   "nbconvert_exporter": "python",
   "pygments_lexer": "ipython3",
   "version": "3.10.7"
  }
 },
 "nbformat": 4,
 "nbformat_minor": 5
}
