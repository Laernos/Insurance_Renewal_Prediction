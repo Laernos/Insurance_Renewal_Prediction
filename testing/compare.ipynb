{
 "cells": [
  {
   "cell_type": "code",
   "execution_count": 3,
   "id": "913ec99a",
   "metadata": {},
   "outputs": [
    {
     "name": "stderr",
     "output_type": "stream",
     "text": [
      "/Users/alper/Desktop/cse2600/model_codes/add_preprocessing.py:14: DtypeWarning: Columns (6) have mixed types. Specify dtype option on import or set low_memory=False.\n",
      "  df = pd.read_csv(filepath, delimiter=delimiter)\n"
     ]
    },
    {
     "name": "stdout",
     "output_type": "stream",
     "text": [
      "✅ Test set saved to '../testing/X_test.pkl' and '../testing/y_test.pkl'\n"
     ]
    }
   ],
   "source": [
    "import sys\n",
    "import os\n",
    "sys.path.append(os.path.abspath('..'))\n",
    "from model_codes.add_preprocessing import load_and_prepare_data, create_preprocessor\n",
    "\n",
    "# === IMPORTS ===\n",
    "import joblib\n",
    "from sklearn.model_selection import train_test_split\n",
    "\n",
    "# === LOAD & PREPARE DATA ===\n",
    "X, y = load_and_prepare_data(\"../Motor_vehicle_insurance_data.csv\")\n",
    "_ = create_preprocessor(X)  # Optional: build it if needed for consistency\n",
    "\n",
    "# === SPLIT DATA ===\n",
    "X_train, X_test, y_train, y_test = train_test_split(X, y, test_size=0.2, random_state=42)\n",
    "\n",
    "# === EXPORT TEST SET ===\n",
    "joblib.dump(X_test, \"../testing/X_test.pkl\")\n",
    "joblib.dump(y_test, \"../testing/y_test.pkl\")\n",
    "\n",
    "print(\"✅ Test set saved to '../testing/X_test.pkl' and '../testing/y_test.pkl'\")"
   ]
  },
  {
   "cell_type": "code",
   "execution_count": 4,
   "id": "a5c1f26c",
   "metadata": {},
   "outputs": [
    {
     "name": "stdout",
     "output_type": "stream",
     "text": [
      "✅ Loaded preprocessed test set.\n",
      "\n",
      "📊 Model Evaluation Summary:\n",
      "                               Model  Accuracy  Precision   Recall  F1 Score  ROC AUC\n",
      "                       Random Forest  0.827199   0.844789 0.958269  0.897958 0.838664\n",
      "                   Linear Regression  0.794609   0.799797 0.988597  0.884231 0.708554\n",
      "                   Gradient Boosting  0.870352   0.871599 0.981134  0.923129 0.892817\n",
      "Gradient Boosting Hyperparamaterized  0.904173   0.902399 0.985851  0.942281 0.949984\n"
     ]
    }
   ],
   "source": [
    "# === IMPORTS ===\n",
    "import joblib\n",
    "import pandas as pd\n",
    "from sklearn.metrics import (\n",
    "    accuracy_score, precision_score, recall_score, f1_score, roc_auc_score\n",
    ")\n",
    "\n",
    "# === LOAD TEST SET (in the same folder as this notebook) ===\n",
    "X_test = joblib.load(\"X_test.pkl\")\n",
    "y_test = joblib.load(\"y_test.pkl\")\n",
    "print(\"✅ Loaded preprocessed test set.\")\n",
    "\n",
    "# === MODEL FILES (one directory up, inside 'models/') ===\n",
    "models_info = {\n",
    "    \"Random Forest\": \"../models/random_forest_model.pkl\",\n",
    "    \"Linear Regression\": \"../models/linear_regression_model.pkl\",\n",
    "    \"Gradient Boosting\": \"../models/gradient_boost_model.pkl\",\n",
    "    \"Gradient Boosting Hyperparamaterized\": \"../models/gradient_boost_model_hyperparameter.pkl\",\n",
    "\n",
    "}\n",
    "\n",
    "# === COLLECT METRICS FOR SIDE-BY-SIDE COMPARISON ===\n",
    "metrics = {\n",
    "    \"Model\": [],\n",
    "    \"Accuracy\": [],\n",
    "    \"Precision\": [],\n",
    "    \"Recall\": [],\n",
    "    \"F1 Score\": [],\n",
    "    \"ROC AUC\": []\n",
    "}\n",
    "\n",
    "# === EVALUATE EACH MODEL ===\n",
    "for name, file in models_info.items():\n",
    "    model = joblib.load(file)\n",
    "    y_raw = model.predict(X_test)\n",
    "\n",
    "    # Handle regression models with threshold\n",
    "    if name.lower().startswith(\"linear\"):\n",
    "        y_pred = (y_raw >= 0.5).astype(int)\n",
    "        y_prob = y_raw\n",
    "    else:\n",
    "        y_pred = y_raw\n",
    "        try:\n",
    "            y_prob = model.predict_proba(X_test)[:, 1]\n",
    "        except AttributeError:\n",
    "            y_prob = y_raw\n",
    "\n",
    "    # Collect metrics\n",
    "    metrics[\"Model\"].append(name)\n",
    "    metrics[\"Accuracy\"].append(accuracy_score(y_test, y_pred))\n",
    "    metrics[\"Precision\"].append(precision_score(y_test, y_pred))\n",
    "    metrics[\"Recall\"].append(recall_score(y_test, y_pred))\n",
    "    metrics[\"F1 Score\"].append(f1_score(y_test, y_pred))\n",
    "    metrics[\"ROC AUC\"].append(roc_auc_score(y_test, y_prob))\n",
    "\n",
    "# === DISPLAY RESULTS ===\n",
    "comparison_df = pd.DataFrame(metrics)\n",
    "print(\"\\n📊 Model Evaluation Summary:\")\n",
    "print(comparison_df.to_string(index=False))"
   ]
  },
  {
   "cell_type": "code",
   "execution_count": null,
   "id": "83288291",
   "metadata": {},
   "outputs": [],
   "source": []
  }
 ],
 "metadata": {
  "kernelspec": {
   "display_name": "Python 3",
   "language": "python",
   "name": "python3"
  },
  "language_info": {
   "codemirror_mode": {
    "name": "ipython",
    "version": 3
   },
   "file_extension": ".py",
   "mimetype": "text/x-python",
   "name": "python",
   "nbconvert_exporter": "python",
   "pygments_lexer": "ipython3",
   "version": "3.10.7"
  }
 },
 "nbformat": 4,
 "nbformat_minor": 5
}
