{
 "cells": [
  {
   "cell_type": "code",
   "execution_count": null,
   "id": "75a89601",
   "metadata": {},
   "outputs": [
    {
     "name": "stderr",
     "output_type": "stream",
     "text": [
      "/var/folders/0x/y70f9b115h59p57bg5dtc2500000gn/T/ipykernel_49642/1321316480.py:12: DtypeWarning: Columns (6) have mixed types. Specify dtype option on import or set low_memory=False.\n",
      "  df = pd.read_csv(\"Motor_vehicle_insurance_data.csv\", delimiter=';')\n"
     ]
    },
    {
     "name": "stdout",
     "output_type": "stream",
     "text": [
      "✅ Model trained and saved as 'insurance_renewal_model.pkl'\n"
     ]
    }
   ],
   "source": [
    "# === IMPORTS ===\n",
    "import pandas as pd\n",
    "from sklearn.model_selection import train_test_split\n",
    "from sklearn.preprocessing import OneHotEncoder, StandardScaler\n",
    "from sklearn.compose import ColumnTransformer\n",
    "from sklearn.pipeline import Pipeline\n",
    "from sklearn.linear_model import LogisticRegression\n",
    "from sklearn.impute import SimpleImputer\n",
    "import joblib\n",
    "\n",
    "# === LOAD DATA ===\n",
    "df = pd.read_csv(\"Motor_vehicle_insurance_data.csv\", delimiter=';')\n",
    "\n",
    "# === CONVERT DATE COLUMNS ===\n",
    "date_cols = ['Date_start_contract', 'Date_last_renewal', 'Date_next_renewal', \n",
    "             'Date_birth', 'Date_driving_licence', 'Date_lapse']\n",
    "for col in date_cols:\n",
    "    df[col] = pd.to_datetime(df[col], errors='coerce', dayfirst=True)\n",
    "\n",
    "# === FIX LABEL COLUMN & FILTER BAD LABELS ===\n",
    "df = df[df['Lapse'].isin([0, 1])]\n",
    "df['Renewed'] = 1 - df['Lapse']\n",
    "\n",
    "# === FEATURE ENGINEERING WITH FIXED DATE ===\n",
    "reference_date = pd.to_datetime(\"2018-12-31\")\n",
    "df['Customer_age'] = (reference_date - df['Date_birth']).dt.days // 365\n",
    "df['Driving_experience'] = (reference_date - df['Date_driving_licence']).dt.days // 365\n",
    "df['Contract_duration'] = (df['Date_next_renewal'] - df['Date_start_contract']).dt.days\n",
    "\n",
    "# === REMOVE DATE-BASED OUTLIERS ===\n",
    "df = df[(df['Customer_age'] >= 18) & (df['Customer_age'] <= 100)]\n",
    "df = df[(df['Driving_experience'] >= 0) & (df['Driving_experience'] <= 80)]\n",
    "\n",
    "# === DROP UNUSED COLUMNS ===\n",
    "df = df.drop(columns=['ID', 'Date_start_contract', 'Date_last_renewal', 'Date_next_renewal', \n",
    "                      'Date_birth', 'Date_driving_licence', 'Date_lapse', 'Lapse'])\n",
    "\n",
    "# === DEFINE FEATURES & TARGET ===\n",
    "X = df.drop(columns=['Renewed'])\n",
    "y = df['Renewed']\n",
    "\n",
    "# === IDENTIFY COLUMN TYPES ===\n",
    "categorical_cols = X.select_dtypes(include=['object']).columns.tolist()\n",
    "numerical_cols = X.select_dtypes(include=['float64', 'int64']).columns.tolist()\n",
    "for col in categorical_cols:\n",
    "    X[col] = X[col].astype(str)\n",
    "\n",
    "# === PREPROCESSING PIPELINES ===\n",
    "numeric_transformer = Pipeline([\n",
    "    ('imputer', SimpleImputer(strategy='mean')),\n",
    "    ('scaler', StandardScaler())\n",
    "])\n",
    "categorical_transformer = Pipeline([\n",
    "    ('imputer', SimpleImputer(strategy='most_frequent')),\n",
    "    ('onehot', OneHotEncoder(handle_unknown='ignore'))\n",
    "])\n",
    "preprocessor = ColumnTransformer([\n",
    "    ('num', numeric_transformer, numerical_cols),\n",
    "    ('cat', categorical_transformer, categorical_cols)\n",
    "])\n",
    "\n",
    "# === MODEL PIPELINE ===\n",
    "model = Pipeline([\n",
    "    ('preprocessor', preprocessor),\n",
    "    ('classifier', LogisticRegression(max_iter=1000))\n",
    "])\n",
    "\n",
    "# === TRAIN-TEST SPLIT & MODEL TRAINING ===\n",
    "X_train, X_test, y_train, y_test = train_test_split(X, y, test_size=0.2, random_state=42)\n",
    "model.fit(X_train, y_train)\n",
    "\n",
    "# === EXPORT TRAINED MODEL ===\n",
    "joblib.dump(model, \"regresssion_insurance_renewal_model.pkl\")\n",
    "print(\"✅ Model trained and saved as 'regresssion_insurance_renewal_model.pkl'\")"
   ]
  },
  {
   "cell_type": "code",
   "execution_count": null,
   "id": "4abceb6a",
   "metadata": {},
   "outputs": [
    {
     "name": "stdout",
     "output_type": "stream",
     "text": [
      "Accuracy: 0.8119501994904581\n",
      "\n",
      "Classification Report:\n",
      "               precision    recall  f1-score   support\n",
      "\n",
      "           0       0.57      0.07      0.12      3977\n",
      "           1       0.82      0.99      0.89     16826\n",
      "\n",
      "    accuracy                           0.81     20803\n",
      "   macro avg       0.69      0.53      0.51     20803\n",
      "weighted avg       0.77      0.81      0.75     20803\n",
      "\n",
      "\n",
      "Confusion Matrix:\n",
      " [[  264  3713]\n",
      " [  199 16627]]\n"
     ]
    }
   ],
   "source": [
    "from sklearn.metrics import accuracy_score, classification_report, confusion_matrix\n",
    "import joblib\n",
    "\n",
    "# Load the model\n",
    "model = joblib.load(\"regresssion_insurance_renewal_model.pkl\")\n",
    "\n",
    "# Predict on test set\n",
    "y_pred = model.predict(X_test)\n",
    "\n",
    "# Evaluate the model\n",
    "print(\"Accuracy:\", accuracy_score(y_test, y_pred))\n",
    "print(\"\\nClassification Report:\\n\", classification_report(y_test, y_pred))\n",
    "print(\"\\nConfusion Matrix:\\n\", confusion_matrix(y_test, y_pred))"
   ]
  }
 ],
 "metadata": {
  "kernelspec": {
   "display_name": "Python 3",
   "language": "python",
   "name": "python3"
  },
  "language_info": {
   "codemirror_mode": {
    "name": "ipython",
    "version": 3
   },
   "file_extension": ".py",
   "mimetype": "text/x-python",
   "name": "python",
   "nbconvert_exporter": "python",
   "pygments_lexer": "ipython3",
   "version": "3.10.7"
  }
 },
 "nbformat": 4,
 "nbformat_minor": 5
}
